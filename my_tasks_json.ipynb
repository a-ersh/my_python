{
 "cells": [
  {
   "cell_type": "code",
   "execution_count": 1,
   "metadata": {
    "colab": {},
    "colab_type": "code",
    "id": "1GzkWBURolsA"
   },
   "outputs": [],
   "source": [
    "def todolist():\n",
    "    import json\n",
    "    while True:\n",
    "        print(\"Простой todo:\\n\\t1. Добавить задачу.\\n\\t2. Вывести список задач.\\n\\t3. Выход.\\n\")\n",
    "        t = input(\"Укажите число: \")\n",
    "        if t == \"1\": \n",
    "            name = input('Сформулируйте задачу: ')\n",
    "            category = input('Добавьте категорию к задаче: ')\n",
    "            time = input('Добавьте время к задаче: ')\n",
    "            try:\n",
    "                with open('todolist.json') as f_obj:\n",
    "                    data = json.load(f_obj)\n",
    "                    data.append({'name': name, 'category': category, 'time': time})  \n",
    "            except FileNotFoundError:\n",
    "                data = [{'name': name, 'category': category, 'time': time}]\n",
    "            with open('todolist.json','w') as f_obj:\n",
    "                json.dump(data, f_obj)\n",
    "        elif t == \"2\":\n",
    "            try:\n",
    "                with open('todolist.json') as f_obj:\n",
    "                    tasks = json.load(f_obj)\n",
    "                    for i in range(len(tasks)): \n",
    "                        print('\\nЗадача: ', tasks[i]['name'],'\\nКатегория: ', tasks[i]['category'], '\\nДата: ', tasks[i]['time'])\n",
    "            except FileNotFoundError:\n",
    "                print('Нет задач')\n",
    "        else:\n",
    "            break"
   ]
  }
 ],
 "metadata": {
  "colab": {
   "collapsed_sections": [],
   "name": "my_tasks_dict.ipynb",
   "provenance": []
  },
  "kernelspec": {
   "display_name": "Python 3",
   "language": "python",
   "name": "python3"
  },
  "language_info": {
   "codemirror_mode": {
    "name": "ipython",
    "version": 3
   },
   "file_extension": ".py",
   "mimetype": "text/x-python",
   "name": "python",
   "nbconvert_exporter": "python",
   "pygments_lexer": "ipython3",
   "version": "3.7.4"
  }
 },
 "nbformat": 4,
 "nbformat_minor": 4
}

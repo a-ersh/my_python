{
 "cells": [
  {
   "cell_type": "code",
   "execution_count": 33,
   "metadata": {},
   "outputs": [],
   "source": [
    "def histogram(s):\n",
    "    '''\n",
    "    Функция для подсчета встречаемости элементов в коллекции s.\n",
    "    '''\n",
    "    word_count = {}\n",
    "    for word in s:\n",
    "        word_count.setdefault(word, 0)  # word_count[key] = 0, если такого key не было ранее\n",
    "        word_count[word] += 1 # word_count[word] = word_count[word] + 1        \n",
    "    return word_count"
   ]
  },
  {
   "cell_type": "code",
   "execution_count": 36,
   "metadata": {},
   "outputs": [
    {
     "name": "stdout",
     "output_type": "stream",
     "text": [
      "Редкие слова: [('call', 1), ('ishmael', 1), ('years', 1), ('agonever', 1), ('mind', 1)] \n",
      "Частые слова: [('it', 6), ('is', 7), ('of', 8), ('and', 9), ('i', 9)]\n"
     ]
    }
   ],
   "source": [
    "with open(\"moby_clean.txt\") as file:\n",
    "        words = file.read().replace(\"\\n\",\" \").split()\n",
    "        words = histogram(words)\n",
    "        words = sorted(words.items(), key=lambda item: item[1])\n",
    "        min_w = words[0:5]\n",
    "        max_w = words[-6:-1]\n",
    "        print (\"Редкие слова:\", min_w, \"\\nЧастые слова:\", max_w)"
   ]
  },
  {
   "cell_type": "code",
   "execution_count": null,
   "metadata": {},
   "outputs": [],
   "source": []
  },
  {
   "cell_type": "code",
   "execution_count": null,
   "metadata": {},
   "outputs": [],
   "source": []
  },
  {
   "cell_type": "code",
   "execution_count": null,
   "metadata": {},
   "outputs": [],
   "source": []
  }
 ],
 "metadata": {
  "kernelspec": {
   "display_name": "Python 3",
   "language": "python",
   "name": "python3"
  },
  "language_info": {
   "codemirror_mode": {
    "name": "ipython",
    "version": 3
   },
   "file_extension": ".py",
   "mimetype": "text/x-python",
   "name": "python",
   "nbconvert_exporter": "python",
   "pygments_lexer": "ipython3",
   "version": "3.7.4"
  }
 },
 "nbformat": 4,
 "nbformat_minor": 4
}

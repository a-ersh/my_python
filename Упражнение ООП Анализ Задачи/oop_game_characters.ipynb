{
  "nbformat": 4,
  "nbformat_minor": 0,
  "metadata": {
    "colab": {
      "name": "oop_game_characters.ipynb",
      "provenance": [],
      "collapsed_sections": []
    },
    "kernelspec": {
      "name": "python3",
      "display_name": "Python 3"
    }
  },
  "cells": [
    {
      "cell_type": "code",
      "metadata": {
        "id": "4SYBHKwddyfU",
        "colab_type": "code",
        "colab": {}
      },
      "source": [
        "class Character:\n",
        "  count = 0\n",
        "  def __init__(self, name = \"Без имени\", x = 0, y = 0, speed = 1):\n",
        "    self._name = name\n",
        "    self._x = x\n",
        "    self._y = y\n",
        "    self._speed = speed\n",
        "    self._shoot_distance = 1\n",
        "    Character.count += 1\n",
        "    print(f'Создан новый персонаж {self._name}')\n",
        "\n",
        "  def run(self, direction = 'left'):\n",
        "    if direction == 'left':\n",
        "      self._x += self._speed\n",
        "    else:\n",
        "      self._x -= self._speed\n",
        "    print(f'Персонаж {self._name} бежит. Новая позиция: x = {self._x}, y = {self._y}')\n",
        "\n",
        "  def shoot(self):\n",
        "    print(f'Персонаж {self._name} выстрелил. Координаты выстрела: ({self._x + self._shoot_distance},{self._y + self._shoot_distance})')\n",
        "\n",
        "  def get_item(self, item):\n",
        "     if item == 'magic_biscuit':\n",
        "       self._speed += 1\n",
        "     elif item == 'magic_scooter':\n",
        "       self._speed *= 2\n",
        "     elif item == 'magic_arrow':\n",
        "       self._shoot_distance += 1\n",
        "     print(f'Персонаж {self._name} взял предмет {item}')\n",
        "\n",
        "class FlyingCharacter(Character):\n",
        "  def __init__(self, name = \"Без имени\", x = 0, y = 0, speed = 2):\n",
        "    Character.__init__(self, name, x, y, speed)\n",
        "    \n",
        "  def fly(self, direction = 'up'):\n",
        "    if direction == 'up':\n",
        "      self._y += self._speed\n",
        "    elif direction == 'down':\n",
        "      self._y -= self._speed\n",
        "    elif direction == 'left':\n",
        "      self._x += self._speed\n",
        "    else:\n",
        "      self._x -= self._speed\n",
        "    print(f'Персонаж {self._name} летит. Новая позиция: x = {self._x}, y = {self._y}')"
      ],
      "execution_count": 0,
      "outputs": []
    },
    {
      "cell_type": "code",
      "metadata": {
        "id": "UaxXqeGZfF8d",
        "colab_type": "code",
        "outputId": "4d325cdc-b2a6-400e-df43-09bdccc93ddf",
        "colab": {
          "base_uri": "https://localhost:8080/",
          "height": 72
        }
      },
      "source": [
        "char1 = Character('Enemy')\n",
        "char2 = FlyingCharacter('Hero',1,1)\n",
        "print('Создано персонажей:', Character.count)"
      ],
      "execution_count": 0,
      "outputs": [
        {
          "output_type": "stream",
          "text": [
            "Создан новый персонаж Enemy\n",
            "Создан новый персонаж Hero\n",
            "Создано персонажей: 2\n"
          ],
          "name": "stdout"
        }
      ]
    },
    {
      "cell_type": "code",
      "metadata": {
        "id": "B1a1Ee1b2d-T",
        "colab_type": "code",
        "outputId": "7857fdf7-0ca4-46a1-fee4-3445c055bce6",
        "colab": {
          "base_uri": "https://localhost:8080/",
          "height": 90
        }
      },
      "source": [
        "char1.get_item('magic_biscuit')\n",
        "char1.run('right')\n",
        "\n",
        "char2.fly()\n",
        "char2.shoot()"
      ],
      "execution_count": 0,
      "outputs": [
        {
          "output_type": "stream",
          "text": [
            "Персонаж Enemy взял предмет magic_biscuit\n",
            "Персонаж Enemy бежит. Новая позиция: x = -2, y = 0\n",
            "Персонаж Hero летит. Новая позиция: x = 1, y = 3\n",
            "Персонаж Hero выстрелил. Координаты выстрела: (2,4)\n"
          ],
          "name": "stdout"
        }
      ]
    }
  ]
}
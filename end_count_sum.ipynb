{
  "nbformat": 4,
  "nbformat_minor": 0,
  "metadata": {
    "colab": {
      "name": "end_count_sum.ipynb",
      "provenance": [],
      "collapsed_sections": []
    },
    "kernelspec": {
      "name": "python3",
      "display_name": "Python 3"
    }
  },
  "cells": [
    {
      "cell_type": "code",
      "metadata": {
        "id": "HrrFQjDhxytV",
        "colab_type": "code",
        "colab": {}
      },
      "source": [
        "sum = 0\n",
        "while True:\n",
        "    num = input('Введите число или Стоп для выхода: ')\n",
        "    if num.lower() == 'стоп' :\n",
        "        break\n",
        "    if not num.isnumeric():\n",
        "        num = input('Ошибка ввода.\\nВведите число или Стоп для выхода: ')\n",
        "    sum = sum + int(num)\n",
        "sum"
      ],
      "execution_count": 0,
      "outputs": []
    }
  ]
}
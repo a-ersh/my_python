{
  "nbformat": 4,
  "nbformat_minor": 0,
  "metadata": {
    "colab": {
      "name": "dict_cinema_price.ipynb",
      "provenance": [],
      "collapsed_sections": []
    },
    "kernelspec": {
      "name": "python3",
      "display_name": "Python 3"
    }
  },
  "cells": [
    {
      "cell_type": "code",
      "metadata": {
        "id": "hw7h-W7NmZuR",
        "colab_type": "code",
        "colab": {
          "base_uri": "https://localhost:8080/",
          "height": 127
        },
        "outputId": "286831e9-2e4b-4392-cd95-dfa85605d8c6"
      },
      "source": [
        "def cinema_price (movie, date, time, tickets):\n",
        "  cinema = {'Паразиты': {12: 250, 16: 350, 20: 450}, \n",
        "          '1917':{10: 250, 13: 350, 16: 350},\n",
        "         'Соник в кино':{10: 350, 14: 450, 18: 450}}\n",
        "  result = cinema[movie][time] * tickets\n",
        "  if date.lower() == \"завтра\":\n",
        "    result = result * 0.95\n",
        "  if tickets >= 20:\n",
        "    result = result * 0.8\n",
        "  print(\"Выбрали фильм:\", movie, \"День:\", date, \"Время:\", time, \"Количество билетов:\", tickets)\n",
        "  print (\"Результат:\", result, \"руб.\")\n",
        "\n",
        "movie1 = input(\"Выбрать фильм: \")\n",
        "date1 = input (\"Выбрать дату (сегодня, завтра): \")\n",
        "time1 = int(input (\"Выбрать время: \"))\n",
        "tickets1 = int(input (\"Выбрать количество билетов: \"))\n",
        "\n",
        "cinema_price(movie1,date1,time1,tickets1)"
      ],
      "execution_count": 3,
      "outputs": [
        {
          "output_type": "stream",
          "text": [
            "Выбрать фильм: 1917\n",
            "Выбрать дату (сегодня, завтра): завтра\n",
            "Выбрать время: 10\n",
            "Выбрать количество билетов: 1\n",
            "Выбрали фильм: 1917 День: завтра Время: 10 Количество билетов: 1\n",
            "Результат: 237.5 руб.\n"
          ],
          "name": "stdout"
        }
      ]
    }
  ]
}
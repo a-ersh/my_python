{
  "nbformat": 4,
  "nbformat_minor": 0,
  "metadata": {
    "colab": {
      "name": "game_num.ipynb",
      "provenance": [],
      "collapsed_sections": []
    },
    "kernelspec": {
      "name": "python3",
      "display_name": "Python 3"
    }
  },
  "cells": [
    {
      "cell_type": "code",
      "metadata": {
        "id": "DzWzH8FxqHHj",
        "colab_type": "code",
        "colab": {}
      },
      "source": [
        "import random\n",
        "def game():\n",
        "    randnum = random.randint(1,10)\n",
        "    print(\"Компьютер загадал число.\\nУ вас есть три попытки. Удачи!\")\n",
        "    tries = 1\n",
        "    while True:\n",
        "      num = int(input(\"Попробуйте угадать: \"))\n",
        "      if num == randnum:\n",
        "          print (\"Победа!\")\n",
        "          break\n",
        "      elif tries == 3:\n",
        "          print(\"Game over!\\nЧисло:\",randnum)\n",
        "          break\n",
        "      elif num > randnum:\n",
        "          print (\"Попробуйте число меньше!\")\n",
        "      else:\n",
        "          print (\"Попробуйте число больше!\")\n",
        "      tries = tries + 1\n",
        "        "
      ],
      "execution_count": 0,
      "outputs": []
    },
    {
      "cell_type": "code",
      "metadata": {
        "id": "ZGe-SYGEsGWY",
        "colab_type": "code",
        "colab": {
          "base_uri": "https://localhost:8080/",
          "height": 182
        },
        "outputId": "765ae6ab-604d-42d8-ea51-4966a516ea86"
      },
      "source": [
        "game()"
      ],
      "execution_count": 10,
      "outputs": [
        {
          "output_type": "stream",
          "text": [
            "Компьютер загадал число.\n",
            "У вас есть три попытки. Удачи!\n",
            "Попробуйте угадать: 10\n",
            "Попробуйте число меньше!\n",
            "Попробуйте угадать: 1\n",
            "Попробуйте число больше!\n",
            "Попробуйте угадать: 1\n",
            "Game over!\n",
            "Число: 6\n"
          ],
          "name": "stdout"
        }
      ]
    },
    {
      "cell_type": "code",
      "metadata": {
        "id": "yCEDSsCWsK-A",
        "colab_type": "code",
        "colab": {}
      },
      "source": [
        ""
      ],
      "execution_count": 0,
      "outputs": []
    }
  ]
}
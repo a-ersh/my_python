{
  "nbformat": 4,
  "nbformat_minor": 0,
  "metadata": {
    "colab": {
      "name": "nums",
      "provenance": [],
      "collapsed_sections": []
    },
    "kernelspec": {
      "name": "python3",
      "display_name": "Python 3"
    }
  },
  "cells": [
    {
      "cell_type": "code",
      "metadata": {
        "id": "vONa77a-43Dt",
        "colab_type": "code",
        "outputId": "8464c4f3-496c-4bdb-c778-8a6c7157f345",
        "colab": {
          "base_uri": "https://localhost:8080/",
          "height": 90
        }
      },
      "source": [
        "s = '''В разные эпохи и у разных народов число Пи имело разное значение.\n",
        "Например, в Древнем Египте оно равнялось 3.1604 у индусов оно приобрело\n",
        "значение 3.162 китайцы пользовались числом, равным 3.1459\n",
        "Буквенное обозначение число Пи получило только в 1706 году – оно происходит\n",
        "от начальных букв двух греческих слов, означающих окружность и периметр.\n",
        "Буквой π число наделил математик Джонс, а прочно вошла в математику она\n",
        "уже в 1737 году.'''\n",
        "nums = list(filter(lambda x: x[0].isdigit(), s.split()))\n",
        "print(nums)\n",
        "nums = list(map(float,nums))\n",
        "print('Количество чисел: ', len(nums))\n",
        "print('Сумма чисел: ', sum(nums))\n",
        "print('Максимальное: ', max(nums))\n"
      ],
      "execution_count": 42,
      "outputs": [
        {
          "output_type": "stream",
          "text": [
            "['3.1604', '3.162', '3.1459', '1706', '1737']\n",
            "Количество чисел:  5\n",
            "Сумма чисел:  3452.4683\n",
            "Максимальное:  1737.0\n"
          ],
          "name": "stdout"
        }
      ]
    },
    {
      "cell_type": "code",
      "metadata": {
        "id": "YPgIQMUqgOGQ",
        "colab_type": "code",
        "colab": {}
      },
      "source": [
        ""
      ],
      "execution_count": 0,
      "outputs": []
    }
  ]
}
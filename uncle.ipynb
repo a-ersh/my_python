{
  "nbformat": 4,
  "nbformat_minor": 0,
  "metadata": {
    "colab": {
      "name": "uncle",
      "provenance": [],
      "collapsed_sections": []
    },
    "kernelspec": {
      "name": "python3",
      "display_name": "Python 3"
    }
  },
  "cells": [
    {
      "cell_type": "code",
      "metadata": {
        "id": "DYtzLJ7-2aPx",
        "colab_type": "code",
        "colab": {
          "base_uri": "https://localhost:8080/",
          "height": 35
        },
        "outputId": "6e789a6b-0e6d-4651-b3e3-c9727f079dcb"
      },
      "source": [
        "s = \"Мой дядя самых честных правил, \\\n",
        "Когда не в шутку занемог, \\\n",
        "Он уважать себя заставил \\\n",
        "И лучше выдумать не мог\"\n",
        "words = s.split()\n",
        "words = list(filter((lambda x: not x.startswith('м')), words))\n",
        "res = ' '.join([str(i) for i in words]) \n",
        "res"
      ],
      "execution_count": 10,
      "outputs": [
        {
          "output_type": "execute_result",
          "data": {
            "text/plain": [
              "'Мой дядя самых честных правил, Когда не в шутку занемог, Он уважать себя заставил И лучше выдумать не'"
            ]
          },
          "metadata": {
            "tags": []
          },
          "execution_count": 10
        }
      ]
    }
  ]
}
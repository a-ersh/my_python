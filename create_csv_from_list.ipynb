{
 "cells": [
  {
   "cell_type": "code",
   "execution_count": 17,
   "metadata": {},
   "outputs": [],
   "source": [
    "def create_csv(name,lst):\n",
    "    try:\n",
    "        with open(f'{name}.csv',\"w\") as file:\n",
    "            s = 'name,address,age'\n",
    "            for x in lst:\n",
    "                s = \"\".join(s+'\\n'+','.join(x))\n",
    "            file.write(s)\n",
    "    except TypeError:\n",
    "        return 'Ошибка ввода кортежа'"
   ]
  },
  {
   "cell_type": "code",
   "execution_count": 18,
   "metadata": {},
   "outputs": [],
   "source": [
    "lst = [('Георгий', 'Невский проспект', '22'), ('Иван', 'пр. Ветеранов','21')]"
   ]
  },
  {
   "cell_type": "code",
   "execution_count": 19,
   "metadata": {},
   "outputs": [],
   "source": [
    "create_csv('newCSV',lst)"
   ]
  }
 ],
 "metadata": {
  "kernelspec": {
   "display_name": "Python 3",
   "language": "python",
   "name": "python3"
  },
  "language_info": {
   "codemirror_mode": {
    "name": "ipython",
    "version": 3
   },
   "file_extension": ".py",
   "mimetype": "text/x-python",
   "name": "python",
   "nbconvert_exporter": "python",
   "pygments_lexer": "ipython3",
   "version": "3.7.4"
  }
 },
 "nbformat": 4,
 "nbformat_minor": 4
}

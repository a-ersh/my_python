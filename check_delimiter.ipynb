{
  "nbformat": 4,
  "nbformat_minor": 0,
  "metadata": {
    "colab": {
      "name": "check_delimiter.ipynb",
      "provenance": [],
      "collapsed_sections": []
    },
    "kernelspec": {
      "name": "python3",
      "display_name": "Python 3"
    }
  },
  "cells": [
    {
      "cell_type": "code",
      "metadata": {
        "id": "AMnoqGUmqOUu",
        "colab_type": "code",
        "colab": {
          "base_uri": "https://localhost:8080/",
          "height": 35
        },
        "outputId": "d2ff1d0e-7313-4f4e-efaf-601258979c19"
      },
      "source": [
        "def check_delimiter(s):\n",
        "    '''\n",
        "    >>> check_delimiter(\"( ) { [ ] ( ) { } }\")    \n",
        "    True\n",
        "    >>> check_delimiter(\"( ) { [ ] }\")    \n",
        "    True\n",
        "    >>> check_delimiter(\"( ) { [ ] ( ] { } }\")    \n",
        "    False\n",
        "    \n",
        "    '''\n",
        "\n",
        "    stack = []\n",
        "    for i in s.split():\n",
        "        if i == '(' or i == '{' or i == '[':\n",
        "            stack.append(i)\n",
        "        elif i == ')':\n",
        "          if stack.pop() != '(':\n",
        "            return False\n",
        "        elif i == '}':\n",
        "          if stack.pop() != '{':\n",
        "            return False\n",
        "        elif i == ']':\n",
        "          if stack.pop() != '[':\n",
        "            return False\n",
        "    return True\n",
        "\n",
        "import doctest\n",
        "doctest.testmod()"
      ],
      "execution_count": 3,
      "outputs": [
        {
          "output_type": "execute_result",
          "data": {
            "text/plain": [
              "TestResults(failed=0, attempted=3)"
            ]
          },
          "metadata": {
            "tags": []
          },
          "execution_count": 3
        }
      ]
    }
  ]
}
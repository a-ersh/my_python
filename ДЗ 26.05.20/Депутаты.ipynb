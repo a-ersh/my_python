{
 "cells": [
  {
   "cell_type": "code",
   "execution_count": 2,
   "metadata": {},
   "outputs": [
    {
     "data": {
      "text/html": [
       "<div>\n",
       "<style scoped>\n",
       "    .dataframe tbody tr th:only-of-type {\n",
       "        vertical-align: middle;\n",
       "    }\n",
       "\n",
       "    .dataframe tbody tr th {\n",
       "        vertical-align: top;\n",
       "    }\n",
       "\n",
       "    .dataframe thead th {\n",
       "        text-align: right;\n",
       "    }\n",
       "</style>\n",
       "<table border=\"1\" class=\"dataframe\">\n",
       "  <thead>\n",
       "    <tr style=\"text-align: right;\">\n",
       "      <th></th>\n",
       "      <th>name</th>\n",
       "      <th>lastname</th>\n",
       "      <th>otchestvo</th>\n",
       "      <th>gender</th>\n",
       "      <th>birthdate</th>\n",
       "      <th>start</th>\n",
       "      <th>end</th>\n",
       "      <th>district</th>\n",
       "    </tr>\n",
       "  </thead>\n",
       "  <tbody>\n",
       "    <tr>\n",
       "      <td>0</td>\n",
       "      <td>Ефимов</td>\n",
       "      <td>Виталий</td>\n",
       "      <td>Борисович</td>\n",
       "      <td>м</td>\n",
       "      <td>04.04.1940</td>\n",
       "      <td>18.09.2016</td>\n",
       "      <td>NaN</td>\n",
       "      <td>Мордовский</td>\n",
       "    </tr>\n",
       "    <tr>\n",
       "      <td>1</td>\n",
       "      <td>Максимова</td>\n",
       "      <td>Надежда</td>\n",
       "      <td>Сергеевна</td>\n",
       "      <td>ж</td>\n",
       "      <td>13.01.1942</td>\n",
       "      <td>18.09.2016</td>\n",
       "      <td>NaN</td>\n",
       "      <td>Хакасский</td>\n",
       "    </tr>\n",
       "    <tr>\n",
       "      <td>2</td>\n",
       "      <td>Мищеряков</td>\n",
       "      <td>Юрий</td>\n",
       "      <td>Николаевич</td>\n",
       "      <td>м</td>\n",
       "      <td>01.01.1945</td>\n",
       "      <td>18.09.2016</td>\n",
       "      <td>NaN</td>\n",
       "      <td>Оренбургский</td>\n",
       "    </tr>\n",
       "  </tbody>\n",
       "</table>\n",
       "</div>"
      ],
      "text/plain": [
       "        name lastname   otchestvo gender   birthdate       start  end  \\\n",
       "0     Ефимов  Виталий   Борисович      м  04.04.1940  18.09.2016  NaN   \n",
       "1  Максимова  Надежда   Сергеевна      ж  13.01.1942  18.09.2016  NaN   \n",
       "2  Мищеряков     Юрий  Николаевич      м  01.01.1945  18.09.2016  NaN   \n",
       "\n",
       "       district  \n",
       "0    Мордовский  \n",
       "1     Хакасский  \n",
       "2  Оренбургский  "
      ]
     },
     "execution_count": 2,
     "metadata": {},
     "output_type": "execute_result"
    }
   ],
   "source": [
    "import pandas as pd\n",
    "\n",
    "url = \"https://raw.githubusercontent.com/dm-fedorov/pandas_basic/master/data/deputat.csv\"\n",
    "df = pd.read_csv(url)\n",
    "df.head(3)"
   ]
  },
  {
   "cell_type": "markdown",
   "metadata": {},
   "source": [
    "### Задания"
   ]
  },
  {
   "cell_type": "markdown",
   "metadata": {},
   "source": [
    "Определите средний возраст депутатов?"
   ]
  },
  {
   "cell_type": "code",
   "execution_count": 16,
   "metadata": {},
   "outputs": [
    {
     "data": {
      "text/plain": [
       "57"
      ]
     },
     "execution_count": 16,
     "metadata": {},
     "output_type": "execute_result"
    }
   ],
   "source": [
    "from datetime import datetime, timedelta\n",
    "from statistics import mean\n",
    "round(mean([(datetime.now() - datetime.strptime(i, '%d.%M.%Y')).days/365 for i in df['birthdate'].values]))"
   ]
  },
  {
   "cell_type": "markdown",
   "metadata": {},
   "source": [
    "Определите гендерное процентное соотношение состава депутатов"
   ]
  },
  {
   "cell_type": "code",
   "execution_count": 17,
   "metadata": {},
   "outputs": [
    {
     "data": {
      "text/plain": [
       "м    84.834123\n",
       "ж    15.165877\n",
       "Name: gender, dtype: float64"
      ]
     },
     "execution_count": 17,
     "metadata": {},
     "output_type": "execute_result"
    }
   ],
   "source": [
    "(df['gender'].value_counts()/df['gender'].count())*100"
   ]
  },
  {
   "cell_type": "code",
   "execution_count": null,
   "metadata": {},
   "outputs": [],
   "source": []
  }
 ],
 "metadata": {
  "kernelspec": {
   "display_name": "Python 3",
   "language": "python",
   "name": "python3"
  },
  "language_info": {
   "codemirror_mode": {
    "name": "ipython",
    "version": 3
   },
   "file_extension": ".py",
   "mimetype": "text/x-python",
   "name": "python",
   "nbconvert_exporter": "python",
   "pygments_lexer": "ipython3",
   "version": "3.7.4"
  }
 },
 "nbformat": 4,
 "nbformat_minor": 4
}

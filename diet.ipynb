{
  "nbformat": 4,
  "nbformat_minor": 0,
  "metadata": {
    "colab": {
      "name": "diet.ipynb",
      "provenance": [],
      "collapsed_sections": []
    },
    "kernelspec": {
      "name": "python3",
      "display_name": "Python 3"
    }
  },
  "cells": [
    {
      "cell_type": "code",
      "metadata": {
        "id": "4OTsQf2xSG0g",
        "colab_type": "code",
        "colab": {
          "base_uri": "https://localhost:8080/",
          "height": 146
        },
        "outputId": "a0ee518b-ed1e-4db6-8fd1-fc3f0f8f04ee"
      },
      "source": [
        "m = int(input(\"Введите исходную массу: \"))\n",
        "[[\"Масса на конец \"+str(i)+\"-го месяца\", m - 1.5*i] for i in range(1,7)]"
      ],
      "execution_count": 14,
      "outputs": [
        {
          "output_type": "stream",
          "text": [
            "Введите исходную массу: 100\n"
          ],
          "name": "stdout"
        },
        {
          "output_type": "execute_result",
          "data": {
            "text/plain": [
              "[['Масса на конец 1-го месяца', 98.5],\n",
              " ['Масса на конец 2-го месяца', 97.0],\n",
              " ['Масса на конец 3-го месяца', 95.5],\n",
              " ['Масса на конец 4-го месяца', 94.0],\n",
              " ['Масса на конец 5-го месяца', 92.5],\n",
              " ['Масса на конец 6-го месяца', 91.0]]"
            ]
          },
          "metadata": {
            "tags": []
          },
          "execution_count": 14
        }
      ]
    },
    {
      "cell_type": "code",
      "metadata": {
        "id": "RocnB-A_UD17",
        "colab_type": "code",
        "colab": {}
      },
      "source": [
        ""
      ],
      "execution_count": 0,
      "outputs": []
    }
  ]
}
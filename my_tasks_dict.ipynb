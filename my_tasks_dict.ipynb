{
  "nbformat": 4,
  "nbformat_minor": 0,
  "metadata": {
    "colab": {
      "name": "my_tasks_dict.ipynb",
      "provenance": [],
      "collapsed_sections": []
    },
    "kernelspec": {
      "name": "python3",
      "display_name": "Python 3"
    }
  },
  "cells": [
    {
      "cell_type": "code",
      "metadata": {
        "id": "1GzkWBURolsA",
        "colab_type": "code",
        "colab": {}
      },
      "source": [
        "tasks = []\n",
        "while True:\n",
        "  print(\"Простой todo:\\n\\t1. Добавить задачу.\\n\\t2. Вывести список задач.\\n\\t3. Выход.\\n\")\n",
        "  t = input(\"Укажите число: \")\n",
        "  if t == \"1\": \n",
        "    name = input('Сформулируйте задачу: ')\n",
        "    category = input('Добавьте категорию к задаче: ')\n",
        "    time = input('Добавьте время к задаче: ')\n",
        "    tasks.append({'name': name, 'category': category, 'time': time})\n",
        "  elif t == \"2\":\n",
        "    for i in range(len(tasks)): \n",
        "      print('\\nЗадача: ', tasks[i]['name'],'\\nКатегория: ', tasks[i]['category'], '\\nДата: ', tasks[i]['time'])\n",
        "  else:\n",
        "    break"
      ],
      "execution_count": 0,
      "outputs": []
    }
  ]
}
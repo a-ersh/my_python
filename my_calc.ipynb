{
 "cells": [
  {
   "cell_type": "code",
   "execution_count": 4,
   "metadata": {},
   "outputs": [],
   "source": [
    "def calc():\n",
    "    while True:\n",
    "        try:\n",
    "            a = input(\"Введите первое число: \")\n",
    "            b = input(\"Введите второе число: \")\n",
    "            c = input(\"Введите оператор: \")\n",
    "            if c not in \"+-/*\":\n",
    "                print(\"Ошибка в вводе оператора\")\n",
    "            else: \n",
    "                return eval(a+c+b)\n",
    "        except ZeroDivisionError:\n",
    "            print(\"Ошибка деления на ноль\")\n",
    "        except SyntaxError:\n",
    "            print(\"Ошибка ввода числа\")"
   ]
  }
 ],
 "metadata": {
  "kernelspec": {
   "display_name": "Python 3",
   "language": "python",
   "name": "python3"
  },
  "language_info": {
   "codemirror_mode": {
    "name": "ipython",
    "version": 3
   },
   "file_extension": ".py",
   "mimetype": "text/x-python",
   "name": "python",
   "nbconvert_exporter": "python",
   "pygments_lexer": "ipython3",
   "version": "3.7.4"
  }
 },
 "nbformat": 4,
 "nbformat_minor": 4
}

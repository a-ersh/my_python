{
 "cells": [
  {
   "cell_type": "code",
   "execution_count": 43,
   "metadata": {},
   "outputs": [],
   "source": [
    "import random\n",
    "char = [i for i in range(1040,1104)]+[i for i in range(32,65)]\n",
    "new_char = [chr(i) for i in random.sample(range(30,130), len(char))]\n",
    "def enc(txt):\n",
    "    transtable = str.maketrans({char[i]: new_char[i] for i in range(len(char))})\n",
    "    with open(txt,\"r\") as reader, open(\"enc_txt.txt\",\"w\") as writer:\n",
    "        text=reader.read()\n",
    "        writer.write(text.translate(transtable))\n",
    "def dec(txt):\n",
    "    transtable = str.maketrans({new_char[i]: char[i] for i in range(len(char))})\n",
    "    with open(txt,\"r\") as reader, open(\"dec_txt.txt\",\"w\") as writer:\n",
    "        text=reader.read()\n",
    "        writer.write(text.translate(transtable))"
   ]
  },
  {
   "cell_type": "code",
   "execution_count": 44,
   "metadata": {},
   "outputs": [],
   "source": [
    "with open(\"txt.txt\",\"w\") as writer:\n",
    "    writer.write('Строка для шифрования!')\n",
    "enc('txt.txt')\n",
    "dec('enc_txt.txt')"
   ]
  }
 ],
 "metadata": {
  "kernelspec": {
   "display_name": "Python 3",
   "language": "python",
   "name": "python3"
  },
  "language_info": {
   "codemirror_mode": {
    "name": "ipython",
    "version": 3
   },
   "file_extension": ".py",
   "mimetype": "text/x-python",
   "name": "python",
   "nbconvert_exporter": "python",
   "pygments_lexer": "ipython3",
   "version": "3.7.4"
  }
 },
 "nbformat": 4,
 "nbformat_minor": 4
}

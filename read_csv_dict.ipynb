{
 "cells": [
  {
   "cell_type": "code",
   "execution_count": 63,
   "metadata": {},
   "outputs": [],
   "source": [
    "def read_csv(name):\n",
    "    try:\n",
    "        with open (f'{name}.csv', 'r') as file:\n",
    "            lst = [x.strip('\\n').split(',') for x in file.readlines()]\n",
    "            d = [{lst[0][0]: lst[i][0] , lst[0][1]: lst[i][1], lst[0][2]: lst[i][2]} for i in range(1,len(lst))]\n",
    "        return d\n",
    "    except FileNotFoundError:\n",
    "        return \"Файл не найден\""
   ]
  },
  {
   "cell_type": "code",
   "execution_count": 64,
   "metadata": {},
   "outputs": [
    {
     "data": {
      "text/plain": [
       "[{'name': 'Георгий', 'address': 'Невский проспект', 'age': '22'},\n",
       " {'name': 'Иван', 'address': 'пр. Ветеранов', 'age': '21'}]"
      ]
     },
     "execution_count": 64,
     "metadata": {},
     "output_type": "execute_result"
    }
   ],
   "source": [
    "read_csv('newCSV')"
   ]
  }
 ],
 "metadata": {
  "kernelspec": {
   "display_name": "Python 3",
   "language": "python",
   "name": "python3"
  },
  "language_info": {
   "codemirror_mode": {
    "name": "ipython",
    "version": 3
   },
   "file_extension": ".py",
   "mimetype": "text/x-python",
   "name": "python",
   "nbconvert_exporter": "python",
   "pygments_lexer": "ipython3",
   "version": "3.7.4"
  }
 },
 "nbformat": 4,
 "nbformat_minor": 4
}

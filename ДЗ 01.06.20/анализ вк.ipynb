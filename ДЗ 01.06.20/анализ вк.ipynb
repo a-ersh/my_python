{
 "cells": [
  {
   "cell_type": "code",
   "execution_count": 31,
   "metadata": {},
   "outputs": [
    {
     "data": {
      "text/html": [
       "<div>\n",
       "<style scoped>\n",
       "    .dataframe tbody tr th:only-of-type {\n",
       "        vertical-align: middle;\n",
       "    }\n",
       "\n",
       "    .dataframe tbody tr th {\n",
       "        vertical-align: top;\n",
       "    }\n",
       "\n",
       "    .dataframe thead th {\n",
       "        text-align: right;\n",
       "    }\n",
       "</style>\n",
       "<table border=\"1\" class=\"dataframe\">\n",
       "  <thead>\n",
       "    <tr style=\"text-align: right;\">\n",
       "      <th></th>\n",
       "      <th>Дата</th>\n",
       "      <th>Критерий</th>\n",
       "      <th>Парам. №1</th>\n",
       "      <th>Парам. №2</th>\n",
       "      <th>Значение</th>\n",
       "    </tr>\n",
       "  </thead>\n",
       "  <tbody>\n",
       "    <tr>\n",
       "      <td>0</td>\n",
       "      <td>15.03.2020</td>\n",
       "      <td>views</td>\n",
       "      <td>NaN</td>\n",
       "      <td>NaN</td>\n",
       "      <td>4</td>\n",
       "    </tr>\n",
       "    <tr>\n",
       "      <td>1</td>\n",
       "      <td>15.03.2020</td>\n",
       "      <td>visitors</td>\n",
       "      <td>NaN</td>\n",
       "      <td>NaN</td>\n",
       "      <td>3</td>\n",
       "    </tr>\n",
       "    <tr>\n",
       "      <td>2</td>\n",
       "      <td>15.03.2020</td>\n",
       "      <td>gender</td>\n",
       "      <td>М</td>\n",
       "      <td>NaN</td>\n",
       "      <td>3</td>\n",
       "    </tr>\n",
       "    <tr>\n",
       "      <td>3</td>\n",
       "      <td>15.03.2020</td>\n",
       "      <td>age</td>\n",
       "      <td>24-27</td>\n",
       "      <td>NaN</td>\n",
       "      <td>1</td>\n",
       "    </tr>\n",
       "    <tr>\n",
       "      <td>4</td>\n",
       "      <td>15.03.2020</td>\n",
       "      <td>age</td>\n",
       "      <td>30-35</td>\n",
       "      <td>NaN</td>\n",
       "      <td>2</td>\n",
       "    </tr>\n",
       "  </tbody>\n",
       "</table>\n",
       "</div>"
      ],
      "text/plain": [
       "         Дата  Критерий Парам. №1 Парам. №2  Значение\n",
       "0  15.03.2020     views       NaN       NaN         4\n",
       "1  15.03.2020  visitors       NaN       NaN         3\n",
       "2  15.03.2020    gender         М       NaN         3\n",
       "3  15.03.2020       age     24-27       NaN         1\n",
       "4  15.03.2020       age     30-35       NaN         2"
      ]
     },
     "execution_count": 31,
     "metadata": {},
     "output_type": "execute_result"
    }
   ],
   "source": [
    "import pandas as pd\n",
    "df = pd.read_csv(\"https://raw.githubusercontent.com/dm-fedorov/python_basic/master/data/vkontakte_group_01_2016-08-01_2020-03-15.csv\")\n",
    "df.head()"
   ]
  },
  {
   "cell_type": "code",
   "execution_count": 2,
   "metadata": {},
   "outputs": [
    {
     "data": {
      "text/html": [
       "<div>\n",
       "<style scoped>\n",
       "    .dataframe tbody tr th:only-of-type {\n",
       "        vertical-align: middle;\n",
       "    }\n",
       "\n",
       "    .dataframe tbody tr th {\n",
       "        vertical-align: top;\n",
       "    }\n",
       "\n",
       "    .dataframe thead th {\n",
       "        text-align: right;\n",
       "    }\n",
       "</style>\n",
       "<table border=\"1\" class=\"dataframe\">\n",
       "  <thead>\n",
       "    <tr style=\"text-align: right;\">\n",
       "      <th></th>\n",
       "      <th>Дата</th>\n",
       "      <th>Парам. №1</th>\n",
       "      <th>Парам. №2</th>\n",
       "      <th>Значение</th>\n",
       "      <th>Критерий_activity</th>\n",
       "      <th>Критерий_age</th>\n",
       "      <th>Критерий_cities</th>\n",
       "      <th>Критерий_countries</th>\n",
       "      <th>Критерий_feedback</th>\n",
       "      <th>Критерий_gender</th>\n",
       "      <th>Критерий_gender_age</th>\n",
       "      <th>Критерий_members</th>\n",
       "      <th>Критерий_reach</th>\n",
       "      <th>Критерий_reach_subscribers</th>\n",
       "      <th>Критерий_reach_viral</th>\n",
       "      <th>Критерий_sections</th>\n",
       "      <th>Критерий_views</th>\n",
       "      <th>Критерий_visitors</th>\n",
       "      <th>year</th>\n",
       "    </tr>\n",
       "  </thead>\n",
       "  <tbody>\n",
       "    <tr>\n",
       "      <td>0</td>\n",
       "      <td>15.03.2020</td>\n",
       "      <td>NaN</td>\n",
       "      <td>NaN</td>\n",
       "      <td>4</td>\n",
       "      <td>0</td>\n",
       "      <td>0</td>\n",
       "      <td>0</td>\n",
       "      <td>0</td>\n",
       "      <td>0</td>\n",
       "      <td>0</td>\n",
       "      <td>0</td>\n",
       "      <td>0</td>\n",
       "      <td>0</td>\n",
       "      <td>0</td>\n",
       "      <td>0</td>\n",
       "      <td>0</td>\n",
       "      <td>1</td>\n",
       "      <td>0</td>\n",
       "      <td>2020</td>\n",
       "    </tr>\n",
       "    <tr>\n",
       "      <td>1</td>\n",
       "      <td>15.03.2020</td>\n",
       "      <td>NaN</td>\n",
       "      <td>NaN</td>\n",
       "      <td>3</td>\n",
       "      <td>0</td>\n",
       "      <td>0</td>\n",
       "      <td>0</td>\n",
       "      <td>0</td>\n",
       "      <td>0</td>\n",
       "      <td>0</td>\n",
       "      <td>0</td>\n",
       "      <td>0</td>\n",
       "      <td>0</td>\n",
       "      <td>0</td>\n",
       "      <td>0</td>\n",
       "      <td>0</td>\n",
       "      <td>0</td>\n",
       "      <td>1</td>\n",
       "      <td>2020</td>\n",
       "    </tr>\n",
       "    <tr>\n",
       "      <td>2</td>\n",
       "      <td>15.03.2020</td>\n",
       "      <td>М</td>\n",
       "      <td>NaN</td>\n",
       "      <td>3</td>\n",
       "      <td>0</td>\n",
       "      <td>0</td>\n",
       "      <td>0</td>\n",
       "      <td>0</td>\n",
       "      <td>0</td>\n",
       "      <td>1</td>\n",
       "      <td>0</td>\n",
       "      <td>0</td>\n",
       "      <td>0</td>\n",
       "      <td>0</td>\n",
       "      <td>0</td>\n",
       "      <td>0</td>\n",
       "      <td>0</td>\n",
       "      <td>0</td>\n",
       "      <td>2020</td>\n",
       "    </tr>\n",
       "  </tbody>\n",
       "</table>\n",
       "</div>"
      ],
      "text/plain": [
       "         Дата Парам. №1 Парам. №2  Значение  Критерий_activity  Критерий_age  \\\n",
       "0  15.03.2020       NaN       NaN         4                  0             0   \n",
       "1  15.03.2020       NaN       NaN         3                  0             0   \n",
       "2  15.03.2020         М       NaN         3                  0             0   \n",
       "\n",
       "   Критерий_cities  Критерий_countries  Критерий_feedback  Критерий_gender  \\\n",
       "0                0                   0                  0                0   \n",
       "1                0                   0                  0                0   \n",
       "2                0                   0                  0                1   \n",
       "\n",
       "   Критерий_gender_age  Критерий_members  Критерий_reach  \\\n",
       "0                    0                 0               0   \n",
       "1                    0                 0               0   \n",
       "2                    0                 0               0   \n",
       "\n",
       "   Критерий_reach_subscribers  Критерий_reach_viral  Критерий_sections  \\\n",
       "0                           0                     0                  0   \n",
       "1                           0                     0                  0   \n",
       "2                           0                     0                  0   \n",
       "\n",
       "   Критерий_views  Критерий_visitors  year  \n",
       "0               1                  0  2020  \n",
       "1               0                  1  2020  \n",
       "2               0                  0  2020  "
      ]
     },
     "execution_count": 2,
     "metadata": {},
     "output_type": "execute_result"
    }
   ],
   "source": [
    "dfc= pd.get_dummies(df, columns=['Критерий'])\n",
    "dfc['year'] = [i[6::] for i in dfc['Дата'].values]\n",
    "dfc.head(3)"
   ]
  },
  {
   "cell_type": "markdown",
   "metadata": {
    "colab_type": "text",
    "id": "UnATMgGv99Sa"
   },
   "source": [
    "#### Задание №1"
   ]
  },
  {
   "cell_type": "code",
   "execution_count": 3,
   "metadata": {},
   "outputs": [
    {
     "data": {
      "text/plain": [
       "year\n",
       "2016     7199\n",
       "2017    11872\n",
       "2018     7055\n",
       "2019     8754\n",
       "2020     1444\n",
       "Name: Значение, dtype: int64"
      ]
     },
     "execution_count": 3,
     "metadata": {},
     "output_type": "execute_result"
    }
   ],
   "source": [
    "views = dfc[['year', 'Значение']][dfc['Критерий_views'] == 1]\n",
    "viewsperYear = views.groupby(['year'])['Значение'].sum()\n",
    "viewsperYear"
   ]
  },
  {
   "cell_type": "code",
   "execution_count": 4,
   "metadata": {
    "colab_type": "text",
    "id": "UnATMgGv99Sa"
   },
   "outputs": [
    {
     "data": {
      "text/plain": [
       "year\n",
       "2016    5254\n",
       "2017    8524\n",
       "2018    5117\n",
       "2019    5733\n",
       "2020     956\n",
       "Name: Значение, dtype: int64"
      ]
     },
     "execution_count": 4,
     "metadata": {},
     "output_type": "execute_result"
    }
   ],
   "source": [
    "visitors = dfc[['year', 'Значение']][dfc['Критерий_visitors'] == 1]\n",
    "visitorsperYear = visitors.groupby(['year'])['Значение'].sum()\n",
    "visitorsperYear"
   ]
  },
  {
   "cell_type": "markdown",
   "metadata": {
    "colab_type": "text",
    "id": "UnATMgGv99Sa"
   },
   "source": [
    "#### Задание №2"
   ]
  },
  {
   "cell_type": "code",
   "execution_count": 5,
   "metadata": {},
   "outputs": [
    {
     "data": {
      "text/plain": [
       "year\n",
       "2016    15672\n",
       "2017    27479\n",
       "2018    12539\n",
       "2019    21185\n",
       "2020     1656\n",
       "Name: Значение, dtype: int64"
      ]
     },
     "execution_count": 5,
     "metadata": {},
     "output_type": "execute_result"
    }
   ],
   "source": [
    "reach = dfc[['year','Значение']][dfc['Критерий_reach'] == 1]\n",
    "reach = reach.groupby(['year'])['Значение'].sum()\n",
    "reach"
   ]
  },
  {
   "cell_type": "code",
   "execution_count": 6,
   "metadata": {},
   "outputs": [
    {
     "data": {
      "text/plain": [
       "year\n",
       "2016    3522\n",
       "2017    4487\n",
       "2018    2125\n",
       "2019    9568\n",
       "2020     536\n",
       "Name: Значение, dtype: int64"
      ]
     },
     "execution_count": 6,
     "metadata": {},
     "output_type": "execute_result"
    }
   ],
   "source": [
    "reach_subsc = dfc[['year','Значение']][dfc['Критерий_reach_subscribers'] == 1]\n",
    "reach_subsc = reach_subsc.groupby(['year'])['Значение'].sum()\n",
    "reach_subsc"
   ]
  },
  {
   "cell_type": "markdown",
   "metadata": {
    "colab_type": "text",
    "id": "UnATMgGv99Sa"
   },
   "source": [
    "#### Задание №3"
   ]
  },
  {
   "cell_type": "code",
   "execution_count": 30,
   "metadata": {},
   "outputs": [
    {
     "data": {
      "text/plain": [
       "Парам. №1\n",
       "Ж    10063\n",
       "М    12637\n",
       "Name: Значение, dtype: int64"
      ]
     },
     "execution_count": 30,
     "metadata": {},
     "output_type": "execute_result"
    }
   ],
   "source": [
    "gender = dfc[['Значение','Парам. №1']][dfc['Критерий_gender'] == 1]\n",
    "gender = gender.groupby(['Парам. №1'])['Значение'].sum()\n",
    "gender"
   ]
  },
  {
   "cell_type": "code",
   "execution_count": 8,
   "metadata": {},
   "outputs": [
    {
     "data": {
      "text/plain": [
       "Парам. №1\n",
       "1-18      741\n",
       "18-21    3046\n",
       "21-24    2560\n",
       "24-27    1751\n",
       "27-30    2419\n",
       "30-35    3466\n",
       "35-45    2402\n",
       "45+      2350\n",
       "Name: Значение, dtype: int64"
      ]
     },
     "execution_count": 8,
     "metadata": {},
     "output_type": "execute_result"
    }
   ],
   "source": [
    "age = dfc[['Парам. №1', 'Значение']][dfc['Критерий_age'] == 1]\n",
    "age = age.groupby(['Парам. №1'])['Значение'].sum()\n",
    "age"
   ]
  },
  {
   "cell_type": "code",
   "execution_count": 26,
   "metadata": {
    "colab_type": "text",
    "id": "UnATMgGv99Sa"
   },
   "outputs": [
    {
     "data": {
      "text/plain": [
       "Парам. №1  Парам. №2\n",
       "М          30-35        1095\n",
       "           27-30         990\n",
       "Ж          18-21         939\n",
       "           21-24         808\n",
       "М          35-45         783\n",
       "Ж          45+           744\n",
       "М          45+           718\n",
       "           21-24         693\n",
       "Ж          35-45         659\n",
       "М          18-21         649\n",
       "Ж          24-27         612\n",
       "           30-35         582\n",
       "М          24-27         574\n",
       "Ж          27-30         495\n",
       "           1-18          426\n",
       "М          1-18          184\n",
       "Name: Парам. №2, dtype: int64"
      ]
     },
     "execution_count": 26,
     "metadata": {},
     "output_type": "execute_result"
    }
   ],
   "source": [
    "gender_age = dfc[['Парам. №1','Парам. №2', 'Значение']][dfc['Критерий_gender_age'] == 1]\n",
    "gender_age = gender_age.groupby(['Парам. №1'])['Парам. №2'].value_counts()\n",
    "gender_age.sort_values(ascending=False)"
   ]
  },
  {
   "cell_type": "code",
   "execution_count": 10,
   "metadata": {},
   "outputs": [
    {
     "data": {
      "text/plain": [
       "Парам. №1\n",
       "Россия                         22367\n",
       "Украина                          994\n",
       "Беларусь                         506\n",
       "США                              340\n",
       "Казахстан                        290\n",
       "                               ...  \n",
       "Непал                              1\n",
       "Южно-Африканская Республика        1\n",
       "Кувейт                             1\n",
       "Кот-д'Ивуар                        1\n",
       "Австралия                          1\n",
       "Name: Значение, Length: 70, dtype: int64"
      ]
     },
     "execution_count": 10,
     "metadata": {},
     "output_type": "execute_result"
    }
   ],
   "source": [
    "country = dfc[['Парам. №1','Значение']][dfc['Критерий_countries'] == 1]\n",
    "country = country.groupby(['Парам. №1'])['Значение'].sum()\n",
    "country.sort_values(ascending=False)"
   ]
  },
  {
   "cell_type": "markdown",
   "metadata": {
    "colab_type": "text",
    "id": "UnATMgGv99Sa"
   },
   "source": [
    "#### Задание №4"
   ]
  },
  {
   "cell_type": "code",
   "execution_count": 11,
   "metadata": {},
   "outputs": [
    {
     "data": {
      "text/plain": [
       "Нравится              683\n",
       "Рассказали друзьям    291\n",
       "Комментарии            91\n",
       "Упоминания              1\n",
       "Name: Парам. №1, dtype: int64"
      ]
     },
     "execution_count": 11,
     "metadata": {},
     "output_type": "execute_result"
    }
   ],
   "source": [
    "feedback = dfc[['Парам. №1','Значение']][dfc['Критерий_feedback'] == 1]\n",
    "feedback = feedback['Парам. №1'].value_counts()\n",
    "feedback"
   ]
  },
  {
   "cell_type": "markdown",
   "metadata": {
    "colab_type": "text",
    "id": "UnATMgGv99Sa"
   },
   "source": [
    "#### Задание №5"
   ]
  },
  {
   "cell_type": "code",
   "execution_count": 21,
   "metadata": {},
   "outputs": [
    {
     "name": "stdout",
     "output_type": "stream",
     "text": [
      "Наиболее активные пользователи:\n",
      "Страна:  Россия\n",
      "Возраст:  30-35 и 18-21\n"
     ]
    }
   ],
   "source": [
    "print('Наиболее активные пользователи:\\nСтрана: ', str(country.sort_values(ascending=False).index[0]))\n",
    "print('Возраст: ', age.sort_values(ascending=False).index[0], 'и', age.sort_values(ascending=False).index[1])\n"
   ]
  }
 ],
 "metadata": {
  "kernelspec": {
   "display_name": "Python 3",
   "language": "python",
   "name": "python3"
  },
  "language_info": {
   "codemirror_mode": {
    "name": "ipython",
    "version": 3
   },
   "file_extension": ".py",
   "mimetype": "text/x-python",
   "name": "python",
   "nbconvert_exporter": "python",
   "pygments_lexer": "ipython3",
   "version": "3.7.4"
  }
 },
 "nbformat": 4,
 "nbformat_minor": 4
}

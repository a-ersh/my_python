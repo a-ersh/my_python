{
 "cells": [
  {
   "cell_type": "code",
   "execution_count": 19,
   "metadata": {},
   "outputs": [],
   "source": [
    "def text_updater(text, update_text):\n",
    "    try:\n",
    "        with open(text,'r') as reader, open(update_text,'w') as writer:\n",
    "            text = reader.readlines()\n",
    "            new_text = \"\".join([str(i+1)+\" \"+text[i] for i in range(len(text))])\n",
    "            writer.writelines(new_text)\n",
    "    except FileNotFoundError:\n",
    "        print(\"Файл не найден\")\n",
    "    "
   ]
  }
 ],
 "metadata": {
  "kernelspec": {
   "display_name": "Python 3",
   "language": "python",
   "name": "python3"
  },
  "language_info": {
   "codemirror_mode": {
    "name": "ipython",
    "version": 3
   },
   "file_extension": ".py",
   "mimetype": "text/x-python",
   "name": "python",
   "nbconvert_exporter": "python",
   "pygments_lexer": "ipython3",
   "version": "3.7.4"
  }
 },
 "nbformat": 4,
 "nbformat_minor": 4
}

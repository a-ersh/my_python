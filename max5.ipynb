{
  "nbformat": 4,
  "nbformat_minor": 0,
  "metadata": {
    "colab": {
      "name": "max5.ipynb",
      "provenance": [],
      "collapsed_sections": []
    },
    "kernelspec": {
      "name": "python3",
      "display_name": "Python 3"
    }
  },
  "cells": [
    {
      "cell_type": "code",
      "metadata": {
        "id": "UW1JASgUpeC3",
        "colab_type": "code",
        "colab": {
          "base_uri": "https://localhost:8080/",
          "height": 35
        },
        "outputId": "978165b9-d839-402a-9326-5a9a81b5c255"
      },
      "source": [
        "def max_sequence(seq):\n",
        "    \"\"\"\n",
        "    Функция ищет пять соседних элементов списка, сумма значений которых максимальна.\n",
        "    >>> max_sequence([1, 3, 1, 1, 4, 4, 3, 1, 4, 4, 4, 3, 4, 4, 1, 3, 2, 4, 4, 4])\n",
        "    [4, 4, 4, 3, 4]\n",
        "    >>> max_sequence([1, 5, 7, 2, 9, 2, 9, 2, 5, 3, 7, 6, 3, 3, 7, 4, 4, 1, 9, 5])\n",
        "    [7, 2, 9, 2, 9]\n",
        "    \"\"\"\n",
        "\n",
        "    max_sum = 0\n",
        "    max_i = 0\n",
        "    for i in range(len(seq)-5):\n",
        "        s = sum(seq[i:i+5])\n",
        "        if s > max_sum:\n",
        "            max_sum = s \n",
        "            max_seq = seq[i:i+5]\n",
        "    return max_seq\n",
        "\n",
        "import doctest\n",
        "doctest.testmod()"
      ],
      "execution_count": 1,
      "outputs": [
        {
          "output_type": "execute_result",
          "data": {
            "text/plain": [
              "TestResults(failed=0, attempted=2)"
            ]
          },
          "metadata": {
            "tags": []
          },
          "execution_count": 1
        }
      ]
    }
  ]
}
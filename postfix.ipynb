{
  "nbformat": 4,
  "nbformat_minor": 0,
  "metadata": {
    "colab": {
      "name": "postfix.ipynb",
      "provenance": [],
      "collapsed_sections": []
    },
    "kernelspec": {
      "name": "python3",
      "display_name": "Python 3"
    }
  },
  "cells": [
    {
      "cell_type": "code",
      "metadata": {
        "id": "mbsOxiGCqrJc",
        "colab_type": "code",
        "colab": {
          "base_uri": "https://localhost:8080/",
          "height": 35
        },
        "outputId": "fe3a0128-2e7c-4891-e109-b267f7be2e9d"
      },
      "source": [
        "def calc(expr):\n",
        "    '''\n",
        "    >>> calc(\"1 2 + 4 * 3 +\")\n",
        "    '15'\n",
        "    >>> calc(\"1 2 3 * + 2 -\")\n",
        "    '5'\n",
        "    '''\n",
        "\n",
        "    stack = []\n",
        "    for i in expr.split():\n",
        "        if i.isnumeric():\n",
        "            stack.append(i)\n",
        "        else:\n",
        "            stack = stack[0:-2]+[(str(eval(stack[-2]+i+stack[-1])))]\n",
        "\n",
        "    return stack[0]\n",
        "\n",
        "#print(calc(\"1 2 3 * + 2 -\"))\n",
        "\n",
        "import doctest\n",
        "doctest.testmod()"
      ],
      "execution_count": 1,
      "outputs": [
        {
          "output_type": "execute_result",
          "data": {
            "text/plain": [
              "TestResults(failed=0, attempted=2)"
            ]
          },
          "metadata": {
            "tags": []
          },
          "execution_count": 1
        }
      ]
    }
  ]
}
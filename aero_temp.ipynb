{
 "cells": [
  {
   "cell_type": "code",
   "execution_count": 22,
   "metadata": {},
   "outputs": [
    {
     "name": "stdout",
     "output_type": "stream",
     "text": [
      "Min temperature: 0.8 \n",
      "Max temperature: 28.2 \n",
      "Average temperature: 14.848309178743966 \n",
      "Unique temperature: 217\n"
     ]
    }
   ],
   "source": [
    "with open(\"temper.stat\",'r') as file:\n",
    "    temp = list(map(lambda x: float(x), file.readlines()))\n",
    "    min_t = min(temp)\n",
    "    max_t = max(temp)\n",
    "    aver_t = sum(temp)/len(temp)\n",
    "    unique_t = len(set(temp))\n",
    "print(\"Min temperature:\", min_t, \"\\nMax temperature:\", max_t, \n",
    "      \"\\nAverage temperature:\", aver_t, \"\\nUnique temperature:\", unique_t)\n"
   ]
  },
  {
   "cell_type": "code",
   "execution_count": null,
   "metadata": {},
   "outputs": [],
   "source": []
  }
 ],
 "metadata": {
  "kernelspec": {
   "display_name": "Python 3",
   "language": "python",
   "name": "python3"
  },
  "language_info": {
   "codemirror_mode": {
    "name": "ipython",
    "version": 3
   },
   "file_extension": ".py",
   "mimetype": "text/x-python",
   "name": "python",
   "nbconvert_exporter": "python",
   "pygments_lexer": "ipython3",
   "version": "3.7.4"
  }
 },
 "nbformat": 4,
 "nbformat_minor": 4
}
